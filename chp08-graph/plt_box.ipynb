{
 "cells": [
  {
   "cell_type": "code",
   "execution_count": 3,
   "metadata": {},
   "outputs": [
    {
     "data": {
      "image/png": "[encoded data removed]",
      "text/plain": [
       "<matplotlib.figure.Figure at 0x10a944be0>"
      ]
     },
     "metadata": {},
     "output_type": "display_data"
    }
   ],
   "source": [
    "import matplotlib.pyplot as plt\n",
    "import numpy as np\n",
    "\n",
    "data=[]\n",
    "\n",
    "with open('iris.csv', 'r') as file:\n",
    "    lines = file.readlines() #读取数据行的数据\n",
    "    for line in lines:\n",
    "        temp = line.split(',')\n",
    "        data.append(temp)\n",
    "#转换卫Numpy数组\n",
    "data_np = np.array(data)\n",
    "data_np = np.array(data_np[:, :-1]).astype(float)\n",
    "\n",
    "#特征名称\n",
    "labels = ['sepal length', 'sepal width', 'petal length', 'petal width']\n",
    "\n",
    "plt.boxplot(data_np, labels = labels)\n",
    "plt.show()"
   ]
  },
  {
   "cell_type": "code",
   "execution_count": null,
   "metadata": {
    "collapsed": true
   },
   "outputs": [],
   "source": []
  }
 ],
 "metadata": {
  "kernelspec": {
   "display_name": "machinelearn",
   "language": "python",
   "name": "machinelearn"
  },
  "language_info": {
   "codemirror_mode": {
    "name": "ipython",
    "version": 3
   },
   "file_extension": ".py",
   "mimetype": "text/x-python",
   "name": "python",
   "nbconvert_exporter": "python",
   "pygments_lexer": "ipython3",
   "version": "3.6.1"
  }
 },
 "nbformat": 4,
 "nbformat_minor": 2
}
